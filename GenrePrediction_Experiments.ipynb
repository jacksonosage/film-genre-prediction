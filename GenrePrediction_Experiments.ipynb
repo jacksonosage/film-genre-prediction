{
 "cells": [
  {
   "cell_type": "markdown",
   "metadata": {},
   "source": [
    "# Film Genre Prediction\n",
    "In this notebook I explore predicting the genre of almost 44,000 films from a text-based overview of the film. I will experiment with several variations of three supervised classification machine learning algorthms: Logistic Regression, Multinomial Naive Bayes, and a Support Vector Machine (SVM) Classifier. <br>\n",
    "\n",
    "The data used in this notebook is from The Movies Dateset from Kaggle (https://www.kaggle.com/rounakbanik/the-movies-dataset)"
   ]
  },
  {
   "cell_type": "markdown",
   "metadata": {},
   "source": [
    "### Import Libraries"
   ]
  },
  {
   "cell_type": "code",
   "execution_count": 1,
   "metadata": {},
   "outputs": [],
   "source": [
    "import pandas as pd\n",
    "import numpy as np\n",
    "from matplotlib import pyplot as plt\n",
    "import seaborn as sns\n",
    "%matplotlib inline"
   ]
  },
  {
   "cell_type": "code",
   "execution_count": 2,
   "metadata": {},
   "outputs": [],
   "source": [
    "# Seed numpy for consistancy\n",
    "np.random.seed(1)"
   ]
  },
  {
   "cell_type": "markdown",
   "metadata": {},
   "source": [
    "### Read Data\n",
    "I have already cleaned the raw data from kaggle (parsed JSON, removed nonsense entries, merged data from seperate files, etc.) and pickled the cleaned DataFrame."
   ]
  },
  {
   "cell_type": "code",
   "execution_count": 3,
   "metadata": {},
   "outputs": [],
   "source": [
    "movies = pd.read_pickle('data/movies_reduced.pkl')"
   ]
  },
  {
   "cell_type": "code",
   "execution_count": 4,
   "metadata": {},
   "outputs": [
    {
     "name": "stdout",
     "output_type": "stream",
     "text": [
      "43998\n"
     ]
    },
    {
     "data": {
      "text/html": [
       "<div>\n",
       "<style scoped>\n",
       "    .dataframe tbody tr th:only-of-type {\n",
       "        vertical-align: middle;\n",
       "    }\n",
       "\n",
       "    .dataframe tbody tr th {\n",
       "        vertical-align: top;\n",
       "    }\n",
       "\n",
       "    .dataframe thead th {\n",
       "        text-align: right;\n",
       "    }\n",
       "</style>\n",
       "<table border=\"1\" class=\"dataframe\">\n",
       "  <thead>\n",
       "    <tr style=\"text-align: right;\">\n",
       "      <th></th>\n",
       "      <th>overview</th>\n",
       "      <th>num_genres</th>\n",
       "      <th>genres_list</th>\n",
       "    </tr>\n",
       "    <tr>\n",
       "      <th>id</th>\n",
       "      <th></th>\n",
       "      <th></th>\n",
       "      <th></th>\n",
       "    </tr>\n",
       "  </thead>\n",
       "  <tbody>\n",
       "    <tr>\n",
       "      <th>862</th>\n",
       "      <td>Led by Woody, Andy's toys live happily in his ...</td>\n",
       "      <td>3</td>\n",
       "      <td>[animation, comedy, family]</td>\n",
       "    </tr>\n",
       "    <tr>\n",
       "      <th>8844</th>\n",
       "      <td>When siblings Judy and Peter discover an encha...</td>\n",
       "      <td>3</td>\n",
       "      <td>[adventure, fantasy, family]</td>\n",
       "    </tr>\n",
       "    <tr>\n",
       "      <th>15602</th>\n",
       "      <td>A family wedding reignites the ancient feud be...</td>\n",
       "      <td>2</td>\n",
       "      <td>[romance, comedy]</td>\n",
       "    </tr>\n",
       "    <tr>\n",
       "      <th>31357</th>\n",
       "      <td>Cheated on, mistreated and stepped on, the wom...</td>\n",
       "      <td>3</td>\n",
       "      <td>[comedy, drama, romance]</td>\n",
       "    </tr>\n",
       "    <tr>\n",
       "      <th>11862</th>\n",
       "      <td>Just when George Banks has recovered from his ...</td>\n",
       "      <td>1</td>\n",
       "      <td>[comedy]</td>\n",
       "    </tr>\n",
       "  </tbody>\n",
       "</table>\n",
       "</div>"
      ],
      "text/plain": [
       "                                                overview  num_genres  \\\n",
       "id                                                                     \n",
       "862    Led by Woody, Andy's toys live happily in his ...           3   \n",
       "8844   When siblings Judy and Peter discover an encha...           3   \n",
       "15602  A family wedding reignites the ancient feud be...           2   \n",
       "31357  Cheated on, mistreated and stepped on, the wom...           3   \n",
       "11862  Just when George Banks has recovered from his ...           1   \n",
       "\n",
       "                        genres_list  \n",
       "id                                   \n",
       "862     [animation, comedy, family]  \n",
       "8844   [adventure, fantasy, family]  \n",
       "15602             [romance, comedy]  \n",
       "31357      [comedy, drama, romance]  \n",
       "11862                      [comedy]  "
      ]
     },
     "execution_count": 4,
     "metadata": {},
     "output_type": "execute_result"
    }
   ],
   "source": [
    "print(len(movies))\n",
    "movies.head()"
   ]
  },
  {
   "cell_type": "code",
   "execution_count": 5,
   "metadata": {
    "scrolled": true
   },
   "outputs": [
    {
     "data": {
      "text/plain": [
       "2    14154\n",
       "1    13947\n",
       "3     9429\n",
       "4     3331\n",
       "0     2128\n",
       "5      829\n",
       "6      154\n",
       "7       23\n",
       "8        3\n",
       "Name: genres_list, dtype: int64"
      ]
     },
     "execution_count": 5,
     "metadata": {},
     "output_type": "execute_result"
    }
   ],
   "source": [
    "movies.genres_list.apply(lambda row: len(row)).value_counts()"
   ]
  },
  {
   "cell_type": "code",
   "execution_count": 6,
   "metadata": {},
   "outputs": [],
   "source": [
    "all_genres = []\n",
    "for i, row in movies.iterrows():\n",
    "    for genre in row.genres_list:\n",
    "        if genre not in all_genres:\n",
    "            all_genres.append(genre)"
   ]
  },
  {
   "cell_type": "code",
   "execution_count": 7,
   "metadata": {},
   "outputs": [],
   "source": [
    "genre_counts = {genre:0 for genre in all_genres}\n",
    "for i, row in movies.iterrows():\n",
    "    for genre in row.genres_list:\n",
    "        genre_counts[genre] += 1"
   ]
  },
  {
   "cell_type": "code",
   "execution_count": 8,
   "metadata": {},
   "outputs": [
    {
     "data": {
      "text/plain": [
       "{'animation': 1879,\n",
       " 'comedy': 12689,\n",
       " 'family': 2687,\n",
       " 'adventure': 3442,\n",
       " 'fantasy': 2269,\n",
       " 'romance': 6607,\n",
       " 'drama': 19833,\n",
       " 'action': 6507,\n",
       " 'crime': 4244,\n",
       " 'thriller': 7532,\n",
       " 'horror': 4616,\n",
       " 'history': 1371,\n",
       " 'science_fiction': 2995,\n",
       " 'mystery': 2440,\n",
       " 'war': 1304,\n",
       " 'foreign': 1565,\n",
       " 'music': 1556,\n",
       " 'documentary': 3816,\n",
       " 'western': 1029,\n",
       " 'tv_movie': 739}"
      ]
     },
     "execution_count": 8,
     "metadata": {},
     "output_type": "execute_result"
    }
   ],
   "source": [
    "genre_counts"
   ]
  },
  {
   "cell_type": "markdown",
   "metadata": {},
   "source": [
    "## Modeling\n",
    "Many films naturally fall into several genres. However, for the purpose of modeling I will only predict the single most likely genre. In order to convert the text-based overview data into numerical data, I will use sklearn's TF-IDF (Term Frequncy - Inverse Document Frequency) vectorizer. This function converts the text of each film overview into a matrix containing the relative frequency of each word in the overview to the frequency of the word in all film descriptions."
   ]
  },
  {
   "cell_type": "code",
   "execution_count": 9,
   "metadata": {
    "scrolled": true
   },
   "outputs": [
    {
     "name": "stderr",
     "output_type": "stream",
     "text": [
      "/Users/jsage/miniconda3/envs/DataAnalysis/lib/python3.7/site-packages/sklearn/utils/__init__.py:4: DeprecationWarning: Using or importing the ABCs from 'collections' instead of from 'collections.abc' is deprecated, and in 3.8 it will stop working\n",
      "  from collections import Sequence\n"
     ]
    }
   ],
   "source": [
    "from sklearn.feature_extraction.text import TfidfVectorizer\n",
    "from sklearn.pipeline import make_pipeline\n",
    "from sklearn.linear_model import LogisticRegression\n",
    "from sklearn.naive_bayes import MultinomialNB\n",
    "from sklearn.svm import SVC"
   ]
  },
  {
   "cell_type": "markdown",
   "metadata": {},
   "source": [
    "### Build Design Matricies"
   ]
  },
  {
   "cell_type": "code",
   "execution_count": 10,
   "metadata": {},
   "outputs": [],
   "source": [
    "# 80% train, 20% test (41870 total with a genre label)\n",
    "genre_train = movies[movies.num_genres!=0].iloc[:33496]\n",
    "genre_test = movies[movies.num_genres!=0].iloc[-8374:]"
   ]
  },
  {
   "cell_type": "code",
   "execution_count": 11,
   "metadata": {},
   "outputs": [],
   "source": [
    "X_train = []\n",
    "y_train = []\n",
    "for i,row in genre_train.iterrows():\n",
    "    for g in row.genres_list:\n",
    "        X_train.append(row.overview)\n",
    "        y_train.append(g)"
   ]
  },
  {
   "cell_type": "code",
   "execution_count": 12,
   "metadata": {},
   "outputs": [],
   "source": [
    "X_test = list(genre_test.overview)"
   ]
  },
  {
   "cell_type": "code",
   "execution_count": 13,
   "metadata": {},
   "outputs": [],
   "source": [
    "predictions = pd.DataFrame(genre_test.genres_list)\n",
    "predictions.columns = ['true_genres']"
   ]
  },
  {
   "cell_type": "markdown",
   "metadata": {},
   "source": [
    "### Logistic Regression"
   ]
  },
  {
   "cell_type": "markdown",
   "metadata": {},
   "source": [
    "#### One vs Rest"
   ]
  },
  {
   "cell_type": "code",
   "execution_count": 14,
   "metadata": {},
   "outputs": [
    {
     "data": {
      "text/plain": [
       "Pipeline(memory=None,\n",
       "     steps=[('tfidfvectorizer', TfidfVectorizer(analyzer='word', binary=False, decode_error='strict',\n",
       "        dtype=<class 'numpy.int64'>, encoding='utf-8', input='content',\n",
       "        lowercase=True, max_df=1.0, max_features=None, min_df=1,\n",
       "        ngram_range=(1, 1), norm='l2', preprocessor=None, smooth_i...ty='l2', random_state=None, solver='liblinear', tol=0.0001,\n",
       "          verbose=0, warm_start=False))])"
      ]
     },
     "execution_count": 14,
     "metadata": {},
     "output_type": "execute_result"
    }
   ],
   "source": [
    "logistic_clf1 = make_pipeline(TfidfVectorizer(),LogisticRegression(multi_class='ovr'))\n",
    "logistic_clf1.fit(X_train, y_train)"
   ]
  },
  {
   "cell_type": "code",
   "execution_count": 15,
   "metadata": {},
   "outputs": [],
   "source": [
    "predictions['logistic_clf1'] = logistic_clf1.predict(X_test)"
   ]
  },
  {
   "cell_type": "markdown",
   "metadata": {},
   "source": [
    "#### Cross Entropy Loss"
   ]
  },
  {
   "cell_type": "code",
   "execution_count": 16,
   "metadata": {},
   "outputs": [
    {
     "data": {
      "text/plain": [
       "Pipeline(memory=None,\n",
       "     steps=[('tfidfvectorizer', TfidfVectorizer(analyzer='word', binary=False, decode_error='strict',\n",
       "        dtype=<class 'numpy.int64'>, encoding='utf-8', input='content',\n",
       "        lowercase=True, max_df=1.0, max_features=None, min_df=1,\n",
       "        ngram_range=(1, 1), norm='l2', preprocessor=None, smooth_i...enalty='l2', random_state=None, solver='lbfgs',\n",
       "          tol=0.0001, verbose=0, warm_start=False))])"
      ]
     },
     "execution_count": 16,
     "metadata": {},
     "output_type": "execute_result"
    }
   ],
   "source": [
    "logistic_clf2 = make_pipeline(TfidfVectorizer(), LogisticRegression(multi_class='multinomial', solver='lbfgs'))\n",
    "logistic_clf2.fit(X_train, y_train)"
   ]
  },
  {
   "cell_type": "code",
   "execution_count": 17,
   "metadata": {},
   "outputs": [],
   "source": [
    "predictions['logistic_clf2'] = logistic_clf2.predict(X_test)"
   ]
  },
  {
   "cell_type": "markdown",
   "metadata": {
    "collapsed": true
   },
   "source": [
    "### Multinomial Naive Bayes\n"
   ]
  },
  {
   "cell_type": "code",
   "execution_count": 18,
   "metadata": {},
   "outputs": [
    {
     "data": {
      "text/plain": [
       "Pipeline(memory=None,\n",
       "     steps=[('tfidfvectorizer', TfidfVectorizer(analyzer='word', binary=False, decode_error='strict',\n",
       "        dtype=<class 'numpy.int64'>, encoding='utf-8', input='content',\n",
       "        lowercase=True, max_df=1.0, max_features=None, min_df=1,\n",
       "        ngram_range=(1, 1), norm='l2', preprocessor=None, smooth_i...   vocabulary=None)), ('multinomialnb', MultinomialNB(alpha=1.0, class_prior=None, fit_prior=True))])"
      ]
     },
     "execution_count": 18,
     "metadata": {},
     "output_type": "execute_result"
    }
   ],
   "source": [
    "nb_clf = make_pipeline(TfidfVectorizer(), MultinomialNB())\n",
    "nb_clf.fit(X_train, y_train)"
   ]
  },
  {
   "cell_type": "code",
   "execution_count": 19,
   "metadata": {},
   "outputs": [],
   "source": [
    "predictions['nb_clf'] = nb_clf.predict(X_test)"
   ]
  },
  {
   "cell_type": "markdown",
   "metadata": {},
   "source": [
    "### Support Vector Machine\n",
    "The SVM classifier fails to fit/converge with too many training instances. Thus, I will only use a subset of the data to train the model"
   ]
  },
  {
   "cell_type": "code",
   "execution_count": 20,
   "metadata": {
    "scrolled": true
   },
   "outputs": [
    {
     "data": {
      "text/plain": [
       "Pipeline(memory=None,\n",
       "     steps=[('tfidfvectorizer', TfidfVectorizer(analyzer='word', binary=False, decode_error='strict',\n",
       "        dtype=<class 'numpy.int64'>, encoding='utf-8', input='content',\n",
       "        lowercase=True, max_df=1.0, max_features=None, min_df=1,\n",
       "        ngram_range=(1, 1), norm='l2', preprocessor=None, smooth_i...,\n",
       "  max_iter=-1, probability=False, random_state=None, shrinking=True,\n",
       "  tol=0.001, verbose=False))])"
      ]
     },
     "execution_count": 20,
     "metadata": {},
     "output_type": "execute_result"
    }
   ],
   "source": [
    "svm_clf = make_pipeline(TfidfVectorizer(), SVC())\n",
    "svm_clf.fit(X_train[:5000], y_train[:5000])"
   ]
  },
  {
   "cell_type": "code",
   "execution_count": 21,
   "metadata": {},
   "outputs": [],
   "source": [
    "predictions['svm_clf'] = svm_clf.predict(X_test)"
   ]
  },
  {
   "cell_type": "markdown",
   "metadata": {},
   "source": [
    "### Comparison"
   ]
  },
  {
   "cell_type": "code",
   "execution_count": 22,
   "metadata": {
    "scrolled": true
   },
   "outputs": [
    {
     "data": {
      "text/html": [
       "<div>\n",
       "<style scoped>\n",
       "    .dataframe tbody tr th:only-of-type {\n",
       "        vertical-align: middle;\n",
       "    }\n",
       "\n",
       "    .dataframe tbody tr th {\n",
       "        vertical-align: top;\n",
       "    }\n",
       "\n",
       "    .dataframe thead th {\n",
       "        text-align: right;\n",
       "    }\n",
       "</style>\n",
       "<table border=\"1\" class=\"dataframe\">\n",
       "  <thead>\n",
       "    <tr style=\"text-align: right;\">\n",
       "      <th></th>\n",
       "      <th>true_genres</th>\n",
       "      <th>logistic_clf1</th>\n",
       "      <th>logistic_clf2</th>\n",
       "      <th>nb_clf</th>\n",
       "      <th>svm_clf</th>\n",
       "    </tr>\n",
       "    <tr>\n",
       "      <th>id</th>\n",
       "      <th></th>\n",
       "      <th></th>\n",
       "      <th></th>\n",
       "      <th></th>\n",
       "      <th></th>\n",
       "    </tr>\n",
       "  </thead>\n",
       "  <tbody>\n",
       "    <tr>\n",
       "      <th>46494</th>\n",
       "      <td>[drama, crime]</td>\n",
       "      <td>crime</td>\n",
       "      <td>crime</td>\n",
       "      <td>drama</td>\n",
       "      <td>drama</td>\n",
       "    </tr>\n",
       "    <tr>\n",
       "      <th>50669</th>\n",
       "      <td>[drama, thriller]</td>\n",
       "      <td>drama</td>\n",
       "      <td>drama</td>\n",
       "      <td>drama</td>\n",
       "      <td>drama</td>\n",
       "    </tr>\n",
       "    <tr>\n",
       "      <th>242354</th>\n",
       "      <td>[drama]</td>\n",
       "      <td>drama</td>\n",
       "      <td>drama</td>\n",
       "      <td>drama</td>\n",
       "      <td>drama</td>\n",
       "    </tr>\n",
       "    <tr>\n",
       "      <th>39436</th>\n",
       "      <td>[crime, horror, mystery, thriller]</td>\n",
       "      <td>crime</td>\n",
       "      <td>thriller</td>\n",
       "      <td>drama</td>\n",
       "      <td>drama</td>\n",
       "    </tr>\n",
       "    <tr>\n",
       "      <th>277968</th>\n",
       "      <td>[comedy, drama]</td>\n",
       "      <td>drama</td>\n",
       "      <td>drama</td>\n",
       "      <td>drama</td>\n",
       "      <td>drama</td>\n",
       "    </tr>\n",
       "    <tr>\n",
       "      <th>127894</th>\n",
       "      <td>[comedy, romance]</td>\n",
       "      <td>comedy</td>\n",
       "      <td>comedy</td>\n",
       "      <td>drama</td>\n",
       "      <td>drama</td>\n",
       "    </tr>\n",
       "  </tbody>\n",
       "</table>\n",
       "</div>"
      ],
      "text/plain": [
       "                               true_genres logistic_clf1 logistic_clf2 nb_clf  \\\n",
       "id                                                                              \n",
       "46494                       [drama, crime]         crime         crime  drama   \n",
       "50669                    [drama, thriller]         drama         drama  drama   \n",
       "242354                             [drama]         drama         drama  drama   \n",
       "39436   [crime, horror, mystery, thriller]         crime      thriller  drama   \n",
       "277968                     [comedy, drama]         drama         drama  drama   \n",
       "127894                   [comedy, romance]        comedy        comedy  drama   \n",
       "\n",
       "       svm_clf  \n",
       "id              \n",
       "46494    drama  \n",
       "50669    drama  \n",
       "242354   drama  \n",
       "39436    drama  \n",
       "277968   drama  \n",
       "127894   drama  "
      ]
     },
     "execution_count": 22,
     "metadata": {},
     "output_type": "execute_result"
    }
   ],
   "source": [
    "predictions.head(6)"
   ]
  },
  {
   "cell_type": "code",
   "execution_count": 23,
   "metadata": {},
   "outputs": [],
   "source": [
    "def model_accuracy(row, model_name):\n",
    "    if row[model_name] in row.true_genres:\n",
    "        return True\n",
    "    else:\n",
    "        return False"
   ]
  },
  {
   "cell_type": "code",
   "execution_count": 24,
   "metadata": {},
   "outputs": [
    {
     "name": "stdout",
     "output_type": "stream",
     "text": [
      "logistic_clf1 --> Accuracy: 0.656\n",
      "logistic_clf2 --> Accuracy: 0.660\n",
      "nb_clf --> Accuracy: 0.447\n",
      "svm_clf --> Accuracy: 0.408\n"
     ]
    }
   ],
   "source": [
    "model_names = list(predictions.columns)\n",
    "model_names.remove('true_genres')\n",
    "\n",
    "for model in model_names:\n",
    "    predictions[model+\"_correct\"] = predictions.apply(lambda row: model_accuracy(row, model), axis=1)\n",
    "    predictions[model+\"_correct\"].value_counts()\n",
    "    correct_percent = predictions[model+\"_correct\"].value_counts().loc[True]/len(predictions)\n",
    "    print(model, \"--> Accuracy: {0:.3f}\".format(correct_percent))"
   ]
  },
  {
   "cell_type": "code",
   "execution_count": 25,
   "metadata": {},
   "outputs": [
    {
     "data": {
      "text/html": [
       "<div>\n",
       "<style scoped>\n",
       "    .dataframe tbody tr th:only-of-type {\n",
       "        vertical-align: middle;\n",
       "    }\n",
       "\n",
       "    .dataframe tbody tr th {\n",
       "        vertical-align: top;\n",
       "    }\n",
       "\n",
       "    .dataframe thead th {\n",
       "        text-align: right;\n",
       "    }\n",
       "</style>\n",
       "<table border=\"1\" class=\"dataframe\">\n",
       "  <thead>\n",
       "    <tr style=\"text-align: right;\">\n",
       "      <th></th>\n",
       "      <th>logistic_clf1</th>\n",
       "      <th>logistic_clf2</th>\n",
       "      <th>nb_clf</th>\n",
       "      <th>svm_clf</th>\n",
       "    </tr>\n",
       "    <tr>\n",
       "      <th>genre</th>\n",
       "      <th></th>\n",
       "      <th></th>\n",
       "      <th></th>\n",
       "      <th></th>\n",
       "    </tr>\n",
       "  </thead>\n",
       "  <tbody>\n",
       "    <tr>\n",
       "      <th>action</th>\n",
       "      <td>0.707965</td>\n",
       "      <td>0.691877</td>\n",
       "      <td>0.823529</td>\n",
       "      <td>NaN</td>\n",
       "    </tr>\n",
       "    <tr>\n",
       "      <th>adventure</th>\n",
       "      <td>0.562500</td>\n",
       "      <td>0.587500</td>\n",
       "      <td>NaN</td>\n",
       "      <td>NaN</td>\n",
       "    </tr>\n",
       "    <tr>\n",
       "      <th>animation</th>\n",
       "      <td>0.972973</td>\n",
       "      <td>0.974359</td>\n",
       "      <td>NaN</td>\n",
       "      <td>NaN</td>\n",
       "    </tr>\n",
       "    <tr>\n",
       "      <th>comedy</th>\n",
       "      <td>0.665318</td>\n",
       "      <td>0.664009</td>\n",
       "      <td>0.771167</td>\n",
       "      <td>NaN</td>\n",
       "    </tr>\n",
       "    <tr>\n",
       "      <th>crime</th>\n",
       "      <td>0.600000</td>\n",
       "      <td>0.583333</td>\n",
       "      <td>NaN</td>\n",
       "      <td>NaN</td>\n",
       "    </tr>\n",
       "    <tr>\n",
       "      <th>documentary</th>\n",
       "      <td>0.878519</td>\n",
       "      <td>0.868383</td>\n",
       "      <td>1.000000</td>\n",
       "      <td>NaN</td>\n",
       "    </tr>\n",
       "    <tr>\n",
       "      <th>drama</th>\n",
       "      <td>0.595266</td>\n",
       "      <td>0.607340</td>\n",
       "      <td>0.428102</td>\n",
       "      <td>0.408407</td>\n",
       "    </tr>\n",
       "    <tr>\n",
       "      <th>family</th>\n",
       "      <td>0.764706</td>\n",
       "      <td>0.746032</td>\n",
       "      <td>NaN</td>\n",
       "      <td>NaN</td>\n",
       "    </tr>\n",
       "    <tr>\n",
       "      <th>fantasy</th>\n",
       "      <td>0.638889</td>\n",
       "      <td>0.666667</td>\n",
       "      <td>NaN</td>\n",
       "      <td>NaN</td>\n",
       "    </tr>\n",
       "    <tr>\n",
       "      <th>history</th>\n",
       "      <td>NaN</td>\n",
       "      <td>NaN</td>\n",
       "      <td>NaN</td>\n",
       "      <td>NaN</td>\n",
       "    </tr>\n",
       "    <tr>\n",
       "      <th>horror</th>\n",
       "      <td>0.829412</td>\n",
       "      <td>0.799443</td>\n",
       "      <td>1.000000</td>\n",
       "      <td>NaN</td>\n",
       "    </tr>\n",
       "    <tr>\n",
       "      <th>music</th>\n",
       "      <td>0.707317</td>\n",
       "      <td>0.690909</td>\n",
       "      <td>NaN</td>\n",
       "      <td>NaN</td>\n",
       "    </tr>\n",
       "    <tr>\n",
       "      <th>mystery</th>\n",
       "      <td>0.636364</td>\n",
       "      <td>0.600000</td>\n",
       "      <td>NaN</td>\n",
       "      <td>NaN</td>\n",
       "    </tr>\n",
       "    <tr>\n",
       "      <th>romance</th>\n",
       "      <td>0.695122</td>\n",
       "      <td>0.661765</td>\n",
       "      <td>NaN</td>\n",
       "      <td>NaN</td>\n",
       "    </tr>\n",
       "    <tr>\n",
       "      <th>science_fiction</th>\n",
       "      <td>0.879310</td>\n",
       "      <td>0.869565</td>\n",
       "      <td>NaN</td>\n",
       "      <td>NaN</td>\n",
       "    </tr>\n",
       "    <tr>\n",
       "      <th>thriller</th>\n",
       "      <td>0.526912</td>\n",
       "      <td>0.520305</td>\n",
       "      <td>0.333333</td>\n",
       "      <td>NaN</td>\n",
       "    </tr>\n",
       "    <tr>\n",
       "      <th>war</th>\n",
       "      <td>0.766667</td>\n",
       "      <td>0.787879</td>\n",
       "      <td>NaN</td>\n",
       "      <td>NaN</td>\n",
       "    </tr>\n",
       "    <tr>\n",
       "      <th>western</th>\n",
       "      <td>0.913043</td>\n",
       "      <td>0.827586</td>\n",
       "      <td>NaN</td>\n",
       "      <td>NaN</td>\n",
       "    </tr>\n",
       "  </tbody>\n",
       "</table>\n",
       "</div>"
      ],
      "text/plain": [
       "                 logistic_clf1  logistic_clf2    nb_clf   svm_clf\n",
       "genre                                                            \n",
       "action                0.707965       0.691877  0.823529       NaN\n",
       "adventure             0.562500       0.587500       NaN       NaN\n",
       "animation             0.972973       0.974359       NaN       NaN\n",
       "comedy                0.665318       0.664009  0.771167       NaN\n",
       "crime                 0.600000       0.583333       NaN       NaN\n",
       "documentary           0.878519       0.868383  1.000000       NaN\n",
       "drama                 0.595266       0.607340  0.428102  0.408407\n",
       "family                0.764706       0.746032       NaN       NaN\n",
       "fantasy               0.638889       0.666667       NaN       NaN\n",
       "history                    NaN            NaN       NaN       NaN\n",
       "horror                0.829412       0.799443  1.000000       NaN\n",
       "music                 0.707317       0.690909       NaN       NaN\n",
       "mystery               0.636364       0.600000       NaN       NaN\n",
       "romance               0.695122       0.661765       NaN       NaN\n",
       "science_fiction       0.879310       0.869565       NaN       NaN\n",
       "thriller              0.526912       0.520305  0.333333       NaN\n",
       "war                   0.766667       0.787879       NaN       NaN\n",
       "western               0.913043       0.827586       NaN       NaN"
      ]
     },
     "execution_count": 25,
     "metadata": {},
     "output_type": "execute_result"
    }
   ],
   "source": [
    "percent_correct_genre = pd.DataFrame()\n",
    "for model in model_names:  \n",
    "    correct_genre = predictions.groupby([model, model+\"_correct\"]).true_genres.count()\n",
    "    percent = correct_genre.groupby(level=0).apply(lambda x: x/float(np.sum(x))).unstack()[True]\n",
    "    percent_correct_genre[model] = percent\n",
    "\n",
    "percent_correct_genre.index.name = 'genre'\n",
    "percent_correct_genre"
   ]
  },
  {
   "cell_type": "markdown",
   "metadata": {},
   "source": [
    "### Conclusion\n",
    "\n",
    "Both the Naive Bayes and SVM classifiers—but especially the SVM classifier—over predict the most common genre, 'drama'. Because of this, the 45% and 41% accuracy for these models are rather misleading. The SVM classifier predicted 'drama' for every film, and still had an overall accuracy of 41% which means this the absolute minimum basline all models should be compared against. <br>\n",
    "\n",
    "Clearly the two logistic regression classifiers outpreform both the Naive Bayes and SVM classifiers. Both the one-vs-rest and cross entropy logistic models outpreformed the basline model by about 25%. This is a meaningful improvement and as shown above, the logistic models do a relatively good job of predicting across all genres."
   ]
  }
 ],
 "metadata": {
  "kernelspec": {
   "display_name": "Python [conda env:DataAnalysis]",
   "language": "python",
   "name": "conda-env-DataAnalysis-py"
  },
  "language_info": {
   "codemirror_mode": {
    "name": "ipython",
    "version": 3
   },
   "file_extension": ".py",
   "mimetype": "text/x-python",
   "name": "python",
   "nbconvert_exporter": "python",
   "pygments_lexer": "ipython3",
   "version": "3.7.0"
  },
  "toc": {
   "base_numbering": 1,
   "nav_menu": {},
   "number_sections": false,
   "sideBar": true,
   "skip_h1_title": false,
   "title_cell": "Table of Contents",
   "title_sidebar": "Contents",
   "toc_cell": false,
   "toc_position": {},
   "toc_section_display": "block",
   "toc_window_display": true
  },
  "varInspector": {
   "cols": {
    "lenName": 16,
    "lenType": 16,
    "lenVar": 40
   },
   "kernels_config": {
    "python": {
     "delete_cmd_postfix": "",
     "delete_cmd_prefix": "del ",
     "library": "var_list.py",
     "varRefreshCmd": "print(var_dic_list())"
    },
    "r": {
     "delete_cmd_postfix": ") ",
     "delete_cmd_prefix": "rm(",
     "library": "var_list.r",
     "varRefreshCmd": "cat(var_dic_list()) "
    }
   },
   "types_to_exclude": [
    "module",
    "function",
    "builtin_function_or_method",
    "instance",
    "_Feature"
   ],
   "window_display": false
  }
 },
 "nbformat": 4,
 "nbformat_minor": 2
}
